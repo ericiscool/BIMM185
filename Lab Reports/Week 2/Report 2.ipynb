{
 "cells": [
  {
   "cell_type": "markdown",
   "metadata": {},
   "source": [
    "# BIMM 185 Lab Report 2\n",
    "*Eric Mauritzen*\n",
    "\n"
   ]
  },
  {
   "cell_type": "markdown",
   "metadata": {},
   "source": [
    "## Tuesday, April 11\n",
    "### Exercise 1\n",
    "\n",
    "We had to iterate over all directories in dirtree and extract the top GSAT Z-score from reach report.tbl file.  We compiled these into an output file with the basedirectory and z-score sorted by z-score first then basedirectory.\n",
    "\n",
    "![title](Exercise1.png) \n",
    "\n",
    "The exercise was a good refresher on shell scripting and I learned to use trhe sort utility to sort multiple columns at a time."
   ]
  },
  {
   "cell_type": "markdown",
   "metadata": {
    "collapsed": true
   },
   "source": [
    "### Exercise 2: E. Coli Genome\n",
    "Questions:\n",
    "- What is the name and length of the largest protein?\n",
    "- What is the name and length of the smallest protein?\n",
    "- How many proteins in forward strand?\n",
    "- How many proteins in reverse strand?\n",
    "- What is the largest protein in forward strand?\n",
    "- What are the gene names of all ribosomal proteins?\n",
    "\n",
    "\n",
    "These questions are answered by the following cells"
   ]
  },
  {
   "cell_type": "code",
   "execution_count": 1,
   "metadata": {
    "collapsed": true
   },
   "outputs": [],
   "source": [
    "import pandas as pd\n",
    "import numpy as np\n",
    "df = pd.read_table('ProteinTable.txt')"
   ]
  },
  {
   "cell_type": "code",
   "execution_count": 2,
   "metadata": {
    "collapsed": false
   },
   "outputs": [
    {
     "data": {
      "text/html": [
       "<div>\n",
       "<table border=\"1\" class=\"dataframe\">\n",
       "  <thead>\n",
       "    <tr style=\"text-align: right;\">\n",
       "      <th></th>\n",
       "      <th>Locus</th>\n",
       "      <th>Length</th>\n",
       "    </tr>\n",
       "  </thead>\n",
       "  <tbody>\n",
       "    <tr>\n",
       "      <th>1872</th>\n",
       "      <td>yeeJ</td>\n",
       "      <td>2358</td>\n",
       "    </tr>\n",
       "    <tr>\n",
       "      <th>2387</th>\n",
       "      <td>yfhM</td>\n",
       "      <td>1653</td>\n",
       "    </tr>\n",
       "  </tbody>\n",
       "</table>\n",
       "</div>"
      ],
      "text/plain": [
       "     Locus  Length\n",
       "1872  yeeJ    2358\n",
       "2387  yfhM    1653"
      ]
     },
     "execution_count": 2,
     "metadata": {},
     "output_type": "execute_result"
    }
   ],
   "source": [
    "# What are the longest proteins?\n",
    "df.sort_values('Length', ascending=False)[['Locus','Length']].iloc[0:2]"
   ]
  },
  {
   "cell_type": "code",
   "execution_count": 3,
   "metadata": {
    "collapsed": false
   },
   "outputs": [
    {
     "data": {
      "text/html": [
       "<div>\n",
       "<table border=\"1\" class=\"dataframe\">\n",
       "  <thead>\n",
       "    <tr style=\"text-align: right;\">\n",
       "      <th></th>\n",
       "      <th>Locus</th>\n",
       "      <th>Length</th>\n",
       "    </tr>\n",
       "  </thead>\n",
       "  <tbody>\n",
       "    <tr>\n",
       "      <th>1187</th>\n",
       "      <td>trpL</td>\n",
       "      <td>14</td>\n",
       "    </tr>\n",
       "    <tr>\n",
       "      <th>1619</th>\n",
       "      <td>pheM</td>\n",
       "      <td>14</td>\n",
       "    </tr>\n",
       "  </tbody>\n",
       "</table>\n",
       "</div>"
      ],
      "text/plain": [
       "     Locus  Length\n",
       "1187  trpL      14\n",
       "1619  pheM      14"
      ]
     },
     "execution_count": 3,
     "metadata": {},
     "output_type": "execute_result"
    }
   ],
   "source": [
    "# What are the shortest proteins?\n",
    "df.sort_values('Length', ascending=True)[['Locus', 'Length']].iloc[0:2]"
   ]
  },
  {
   "cell_type": "code",
   "execution_count": 4,
   "metadata": {
    "collapsed": false
   },
   "outputs": [
    {
     "data": {
      "text/plain": [
       "-    2128\n",
       "+    2012\n",
       "Name: Strand, dtype: int64"
      ]
     },
     "execution_count": 4,
     "metadata": {},
     "output_type": "execute_result"
    }
   ],
   "source": [
    "# How many proteins in the forward or reverses strands\n",
    "# Get a single column and check column counts\n",
    "s = df.ix[:,4]\n",
    "s.value_counts()"
   ]
  },
  {
   "cell_type": "code",
   "execution_count": 5,
   "metadata": {
    "collapsed": false
   },
   "outputs": [
    {
     "data": {
      "text/html": [
       "<div>\n",
       "<table border=\"1\" class=\"dataframe\">\n",
       "  <thead>\n",
       "    <tr style=\"text-align: right;\">\n",
       "      <th></th>\n",
       "      <th>Locus</th>\n",
       "      <th>Length</th>\n",
       "    </tr>\n",
       "  </thead>\n",
       "  <tbody>\n",
       "    <tr>\n",
       "      <th>1872</th>\n",
       "      <td>yeeJ</td>\n",
       "      <td>2358</td>\n",
       "    </tr>\n",
       "    <tr>\n",
       "      <th>1558</th>\n",
       "      <td>lhr</td>\n",
       "      <td>1538</td>\n",
       "    </tr>\n",
       "  </tbody>\n",
       "</table>\n",
       "</div>"
      ],
      "text/plain": [
       "     Locus  Length\n",
       "1872  yeeJ    2358\n",
       "1558   lhr    1538"
      ]
     },
     "execution_count": 5,
     "metadata": {},
     "output_type": "execute_result"
    }
   ],
   "source": [
    "# Longest proteins in forward strand\n",
    "df.loc[df['Strand'] == '+'].sort_values('Length', ascending=False)[['Locus', 'Length']].iloc[0:2]"
   ]
  },
  {
   "cell_type": "code",
   "execution_count": 6,
   "metadata": {
    "collapsed": false
   },
   "outputs": [
    {
     "data": {
      "text/html": [
       "<div>\n",
       "<table border=\"1\" class=\"dataframe\">\n",
       "  <thead>\n",
       "    <tr style=\"text-align: right;\">\n",
       "      <th></th>\n",
       "      <th>Locus</th>\n",
       "      <th>Protein name</th>\n",
       "    </tr>\n",
       "  </thead>\n",
       "  <tbody>\n",
       "    <tr>\n",
       "      <th>21</th>\n",
       "      <td>rpsT</td>\n",
       "      <td>30S ribosomal subunit protein S20</td>\n",
       "    </tr>\n",
       "    <tr>\n",
       "      <th>162</th>\n",
       "      <td>rpsB</td>\n",
       "      <td>30S ribosomal subunit protein S2</td>\n",
       "    </tr>\n",
       "    <tr>\n",
       "      <th>272</th>\n",
       "      <td>ykgM</td>\n",
       "      <td>50S ribosomal protein L31 type B; alternative ...</td>\n",
       "    </tr>\n",
       "    <tr>\n",
       "      <th>591</th>\n",
       "      <td>rsfS</td>\n",
       "      <td>ribosomal silencing factor</td>\n",
       "    </tr>\n",
       "    <tr>\n",
       "      <th>769</th>\n",
       "      <td>rimO</td>\n",
       "      <td>ribosomal protein S12 methylthiotransferase</td>\n",
       "    </tr>\n",
       "    <tr>\n",
       "      <th>786</th>\n",
       "      <td>rimK</td>\n",
       "      <td>ribosomal protein S6 modification protein</td>\n",
       "    </tr>\n",
       "    <tr>\n",
       "      <th>838</th>\n",
       "      <td>ycaO</td>\n",
       "      <td>ribosomal protein S12 methylthiotransferase ac...</td>\n",
       "    </tr>\n",
       "    <tr>\n",
       "      <th>844</th>\n",
       "      <td>rpsA</td>\n",
       "      <td>30S ribosomal subunit protein S1</td>\n",
       "    </tr>\n",
       "    <tr>\n",
       "      <th>994</th>\n",
       "      <td>rimJ</td>\n",
       "      <td>ribosomal-protein-S5-alanine N-acetyltransferase</td>\n",
       "    </tr>\n",
       "    <tr>\n",
       "      <th>1017</th>\n",
       "      <td>rpmF</td>\n",
       "      <td>50S ribosomal subunit protein L32</td>\n",
       "    </tr>\n",
       "    <tr>\n",
       "      <th>1056</th>\n",
       "      <td>roxA</td>\n",
       "      <td>50S ribosomal protein L16 arginine hydroxylase...</td>\n",
       "    </tr>\n",
       "    <tr>\n",
       "      <th>1344</th>\n",
       "      <td>rimL</td>\n",
       "      <td>ribosomal-protein-L7/L12-serine acetyltransferase</td>\n",
       "    </tr>\n",
       "    <tr>\n",
       "      <th>1620</th>\n",
       "      <td>rplT</td>\n",
       "      <td>50S ribosomal subunit protein L20</td>\n",
       "    </tr>\n",
       "    <tr>\n",
       "      <th>1621</th>\n",
       "      <td>rpmI</td>\n",
       "      <td>50S ribosomal subunit protein L35</td>\n",
       "    </tr>\n",
       "    <tr>\n",
       "      <th>2066</th>\n",
       "      <td>rplY</td>\n",
       "      <td>50S ribosomal subunit protein L25</td>\n",
       "    </tr>\n",
       "    <tr>\n",
       "      <th>2461</th>\n",
       "      <td>raiA</td>\n",
       "      <td>cold shock protein associated with 30S ribosom...</td>\n",
       "    </tr>\n",
       "    <tr>\n",
       "      <th>2470</th>\n",
       "      <td>rplS</td>\n",
       "      <td>50S ribosomal subunit protein L19</td>\n",
       "    </tr>\n",
       "    <tr>\n",
       "      <th>2473</th>\n",
       "      <td>rpsP</td>\n",
       "      <td>30S ribosomal subunit protein S16</td>\n",
       "    </tr>\n",
       "    <tr>\n",
       "      <th>2882</th>\n",
       "      <td>rpsU</td>\n",
       "      <td>30S ribosomal subunit protein S21</td>\n",
       "    </tr>\n",
       "    <tr>\n",
       "      <th>2976</th>\n",
       "      <td>rpsO</td>\n",
       "      <td>30S ribosomal subunit protein S15</td>\n",
       "    </tr>\n",
       "    <tr>\n",
       "      <th>2989</th>\n",
       "      <td>yhbY</td>\n",
       "      <td>RNA binding protein associated with pre-50S ri...</td>\n",
       "    </tr>\n",
       "    <tr>\n",
       "      <th>2994</th>\n",
       "      <td>rpmA</td>\n",
       "      <td>50S ribosomal subunit protein L27</td>\n",
       "    </tr>\n",
       "    <tr>\n",
       "      <th>2995</th>\n",
       "      <td>rplU</td>\n",
       "      <td>50S ribosomal subunit protein L21</td>\n",
       "    </tr>\n",
       "    <tr>\n",
       "      <th>3038</th>\n",
       "      <td>rpsI</td>\n",
       "      <td>30S ribosomal subunit protein S9</td>\n",
       "    </tr>\n",
       "    <tr>\n",
       "      <th>3039</th>\n",
       "      <td>rplM</td>\n",
       "      <td>50S ribosomal subunit protein L13</td>\n",
       "    </tr>\n",
       "    <tr>\n",
       "      <th>3065</th>\n",
       "      <td>prmA</td>\n",
       "      <td>methyltransferase for 50S ribosomal subunit pr...</td>\n",
       "    </tr>\n",
       "    <tr>\n",
       "      <th>3092</th>\n",
       "      <td>rplQ</td>\n",
       "      <td>50S ribosomal subunit protein L17</td>\n",
       "    </tr>\n",
       "    <tr>\n",
       "      <th>3094</th>\n",
       "      <td>rpsD</td>\n",
       "      <td>30S ribosomal subunit protein S4</td>\n",
       "    </tr>\n",
       "    <tr>\n",
       "      <th>3095</th>\n",
       "      <td>rpsK</td>\n",
       "      <td>30S ribosomal subunit protein S11</td>\n",
       "    </tr>\n",
       "    <tr>\n",
       "      <th>3096</th>\n",
       "      <td>rpsM</td>\n",
       "      <td>30S ribosomal subunit protein S13</td>\n",
       "    </tr>\n",
       "    <tr>\n",
       "      <th>...</th>\n",
       "      <td>...</td>\n",
       "      <td>...</td>\n",
       "    </tr>\n",
       "    <tr>\n",
       "      <th>3104</th>\n",
       "      <td>rpsH</td>\n",
       "      <td>30S ribosomal subunit protein S8</td>\n",
       "    </tr>\n",
       "    <tr>\n",
       "      <th>3105</th>\n",
       "      <td>rpsN</td>\n",
       "      <td>30S ribosomal subunit protein S14</td>\n",
       "    </tr>\n",
       "    <tr>\n",
       "      <th>3106</th>\n",
       "      <td>rplE</td>\n",
       "      <td>50S ribosomal subunit protein L5</td>\n",
       "    </tr>\n",
       "    <tr>\n",
       "      <th>3107</th>\n",
       "      <td>rplX</td>\n",
       "      <td>50S ribosomal subunit protein L24</td>\n",
       "    </tr>\n",
       "    <tr>\n",
       "      <th>3108</th>\n",
       "      <td>rplN</td>\n",
       "      <td>50S ribosomal subunit protein L14</td>\n",
       "    </tr>\n",
       "    <tr>\n",
       "      <th>3109</th>\n",
       "      <td>rpsQ</td>\n",
       "      <td>30S ribosomal subunit protein S17</td>\n",
       "    </tr>\n",
       "    <tr>\n",
       "      <th>3110</th>\n",
       "      <td>rpmC</td>\n",
       "      <td>50S ribosomal subunit protein L29</td>\n",
       "    </tr>\n",
       "    <tr>\n",
       "      <th>3111</th>\n",
       "      <td>rplP</td>\n",
       "      <td>50S ribosomal subunit protein L16</td>\n",
       "    </tr>\n",
       "    <tr>\n",
       "      <th>3112</th>\n",
       "      <td>rpsC</td>\n",
       "      <td>30S ribosomal subunit protein S3</td>\n",
       "    </tr>\n",
       "    <tr>\n",
       "      <th>3113</th>\n",
       "      <td>rplV</td>\n",
       "      <td>50S ribosomal subunit protein L22</td>\n",
       "    </tr>\n",
       "    <tr>\n",
       "      <th>3114</th>\n",
       "      <td>rpsS</td>\n",
       "      <td>30S ribosomal subunit protein S19</td>\n",
       "    </tr>\n",
       "    <tr>\n",
       "      <th>3115</th>\n",
       "      <td>rplB</td>\n",
       "      <td>50S ribosomal subunit protein L2</td>\n",
       "    </tr>\n",
       "    <tr>\n",
       "      <th>3116</th>\n",
       "      <td>rplW</td>\n",
       "      <td>50S ribosomal subunit protein L23</td>\n",
       "    </tr>\n",
       "    <tr>\n",
       "      <th>3117</th>\n",
       "      <td>rplD</td>\n",
       "      <td>50S ribosomal subunit protein L4</td>\n",
       "    </tr>\n",
       "    <tr>\n",
       "      <th>3118</th>\n",
       "      <td>rplC</td>\n",
       "      <td>50S ribosomal subunit protein L3</td>\n",
       "    </tr>\n",
       "    <tr>\n",
       "      <th>3119</th>\n",
       "      <td>rpsJ</td>\n",
       "      <td>30S ribosomal subunit protein S10</td>\n",
       "    </tr>\n",
       "    <tr>\n",
       "      <th>3139</th>\n",
       "      <td>rpsG</td>\n",
       "      <td>30S ribosomal subunit protein S7</td>\n",
       "    </tr>\n",
       "    <tr>\n",
       "      <th>3140</th>\n",
       "      <td>rpsL</td>\n",
       "      <td>30S ribosomal subunit protein S12</td>\n",
       "    </tr>\n",
       "    <tr>\n",
       "      <th>3428</th>\n",
       "      <td>rpmG</td>\n",
       "      <td>50S ribosomal subunit protein L33</td>\n",
       "    </tr>\n",
       "    <tr>\n",
       "      <th>3429</th>\n",
       "      <td>rpmB</td>\n",
       "      <td>50S ribosomal subunit protein L28</td>\n",
       "    </tr>\n",
       "    <tr>\n",
       "      <th>3492</th>\n",
       "      <td>rpmH</td>\n",
       "      <td>50S ribosomal subunit protein L34</td>\n",
       "    </tr>\n",
       "    <tr>\n",
       "      <th>3703</th>\n",
       "      <td>rpmE</td>\n",
       "      <td>50S ribosomal subunit protein L31</td>\n",
       "    </tr>\n",
       "    <tr>\n",
       "      <th>3740</th>\n",
       "      <td>rplK</td>\n",
       "      <td>50S ribosomal subunit protein L11</td>\n",
       "    </tr>\n",
       "    <tr>\n",
       "      <th>3741</th>\n",
       "      <td>rplA</td>\n",
       "      <td>50S ribosomal subunit protein L1</td>\n",
       "    </tr>\n",
       "    <tr>\n",
       "      <th>3742</th>\n",
       "      <td>rplJ</td>\n",
       "      <td>50S ribosomal subunit protein L10</td>\n",
       "    </tr>\n",
       "    <tr>\n",
       "      <th>3743</th>\n",
       "      <td>rplL</td>\n",
       "      <td>50S ribosomal subunit protein L7/L12</td>\n",
       "    </tr>\n",
       "    <tr>\n",
       "      <th>3955</th>\n",
       "      <td>rpsF</td>\n",
       "      <td>30S ribosomal subunit protein S6</td>\n",
       "    </tr>\n",
       "    <tr>\n",
       "      <th>3957</th>\n",
       "      <td>rpsR</td>\n",
       "      <td>30S ribosomal subunit protein S18</td>\n",
       "    </tr>\n",
       "    <tr>\n",
       "      <th>3958</th>\n",
       "      <td>rplI</td>\n",
       "      <td>50S ribosomal subunit protein L9</td>\n",
       "    </tr>\n",
       "    <tr>\n",
       "      <th>4108</th>\n",
       "      <td>rimI</td>\n",
       "      <td>ribosomal-protein-S18-alanine N-acetyltransferase</td>\n",
       "    </tr>\n",
       "  </tbody>\n",
       "</table>\n",
       "<p>66 rows × 2 columns</p>\n",
       "</div>"
      ],
      "text/plain": [
       "     Locus                                       Protein name\n",
       "21    rpsT                  30S ribosomal subunit protein S20\n",
       "162   rpsB                   30S ribosomal subunit protein S2\n",
       "272   ykgM  50S ribosomal protein L31 type B; alternative ...\n",
       "591   rsfS                         ribosomal silencing factor\n",
       "769   rimO        ribosomal protein S12 methylthiotransferase\n",
       "786   rimK          ribosomal protein S6 modification protein\n",
       "838   ycaO  ribosomal protein S12 methylthiotransferase ac...\n",
       "844   rpsA                   30S ribosomal subunit protein S1\n",
       "994   rimJ   ribosomal-protein-S5-alanine N-acetyltransferase\n",
       "1017  rpmF                  50S ribosomal subunit protein L32\n",
       "1056  roxA  50S ribosomal protein L16 arginine hydroxylase...\n",
       "1344  rimL  ribosomal-protein-L7/L12-serine acetyltransferase\n",
       "1620  rplT                  50S ribosomal subunit protein L20\n",
       "1621  rpmI                  50S ribosomal subunit protein L35\n",
       "2066  rplY                  50S ribosomal subunit protein L25\n",
       "2461  raiA  cold shock protein associated with 30S ribosom...\n",
       "2470  rplS                  50S ribosomal subunit protein L19\n",
       "2473  rpsP                  30S ribosomal subunit protein S16\n",
       "2882  rpsU                  30S ribosomal subunit protein S21\n",
       "2976  rpsO                  30S ribosomal subunit protein S15\n",
       "2989  yhbY  RNA binding protein associated with pre-50S ri...\n",
       "2994  rpmA                  50S ribosomal subunit protein L27\n",
       "2995  rplU                  50S ribosomal subunit protein L21\n",
       "3038  rpsI                   30S ribosomal subunit protein S9\n",
       "3039  rplM                  50S ribosomal subunit protein L13\n",
       "3065  prmA  methyltransferase for 50S ribosomal subunit pr...\n",
       "3092  rplQ                  50S ribosomal subunit protein L17\n",
       "3094  rpsD                   30S ribosomal subunit protein S4\n",
       "3095  rpsK                  30S ribosomal subunit protein S11\n",
       "3096  rpsM                  30S ribosomal subunit protein S13\n",
       "...    ...                                                ...\n",
       "3104  rpsH                   30S ribosomal subunit protein S8\n",
       "3105  rpsN                  30S ribosomal subunit protein S14\n",
       "3106  rplE                   50S ribosomal subunit protein L5\n",
       "3107  rplX                  50S ribosomal subunit protein L24\n",
       "3108  rplN                  50S ribosomal subunit protein L14\n",
       "3109  rpsQ                  30S ribosomal subunit protein S17\n",
       "3110  rpmC                  50S ribosomal subunit protein L29\n",
       "3111  rplP                  50S ribosomal subunit protein L16\n",
       "3112  rpsC                   30S ribosomal subunit protein S3\n",
       "3113  rplV                  50S ribosomal subunit protein L22\n",
       "3114  rpsS                  30S ribosomal subunit protein S19\n",
       "3115  rplB                   50S ribosomal subunit protein L2\n",
       "3116  rplW                  50S ribosomal subunit protein L23\n",
       "3117  rplD                   50S ribosomal subunit protein L4\n",
       "3118  rplC                   50S ribosomal subunit protein L3\n",
       "3119  rpsJ                  30S ribosomal subunit protein S10\n",
       "3139  rpsG                   30S ribosomal subunit protein S7\n",
       "3140  rpsL                  30S ribosomal subunit protein S12\n",
       "3428  rpmG                  50S ribosomal subunit protein L33\n",
       "3429  rpmB                  50S ribosomal subunit protein L28\n",
       "3492  rpmH                  50S ribosomal subunit protein L34\n",
       "3703  rpmE                  50S ribosomal subunit protein L31\n",
       "3740  rplK                  50S ribosomal subunit protein L11\n",
       "3741  rplA                   50S ribosomal subunit protein L1\n",
       "3742  rplJ                  50S ribosomal subunit protein L10\n",
       "3743  rplL               50S ribosomal subunit protein L7/L12\n",
       "3955  rpsF                   30S ribosomal subunit protein S6\n",
       "3957  rpsR                  30S ribosomal subunit protein S18\n",
       "3958  rplI                   50S ribosomal subunit protein L9\n",
       "4108  rimI  ribosomal-protein-S18-alanine N-acetyltransferase\n",
       "\n",
       "[66 rows x 2 columns]"
      ]
     },
     "execution_count": 6,
     "metadata": {},
     "output_type": "execute_result"
    }
   ],
   "source": [
    "# Get all ribosomal proteins\n",
    "# Scroll down to see size of table (66)\n",
    "df.loc[df['Protein name'].str.contains('ribosomal')][['Locus', 'Protein name']]"
   ]
  },
  {
   "cell_type": "markdown",
   "metadata": {},
   "source": [
    "### Tabular Annotations (Exercise 3)\n",
    "\n",
    "Generate a fasta file from the E. Colo genome and the annotations table.\n",
    "\n",
    "There should be an entry in the fasta file for every row in the table.\n"
   ]
  },
  {
   "cell_type": "code",
   "execution_count": 7,
   "metadata": {
    "collapsed": false
   },
   "outputs": [],
   "source": [
    "# Read in the E. Coli genome\n",
    "import textwrap\n",
    "from Bio.Seq import Seq\n",
    "from Bio.Alphabet import generic_dna\n",
    "\n",
    "with open('EColi.fna') as f:\n",
    "    # Open the genome\n",
    "    ecoli = f.read()"
   ]
  },
  {
   "cell_type": "code",
   "execution_count": 8,
   "metadata": {
    "collapsed": false
   },
   "outputs": [],
   "source": [
    "# Make it one string\n",
    "ecoli_genome = ''.join(ecoli.splitlines()[1:])"
   ]
  },
  {
   "cell_type": "code",
   "execution_count": 9,
   "metadata": {
    "collapsed": false
   },
   "outputs": [
    {
     "name": "stdout",
     "output_type": "stream",
     "text": [
      ">NC_000913.3|thrL|b0001\n",
      "ATGAAACGCATTAGCACCACCATTACCACCACCATCACCATTACCACAGGTAACGGTGCGGGCTGA\n",
      ">NC_000913.3|thrA|b0002\n",
      "ATGCGAGTGTTGAAGTTCGGCGGTACATCAGTGGCAAATGCAGAACGTTTTCTGCGTGTTGCCGATATTC\n",
      "TGGAAAGCAATGCCAGGCAGGGGCAGGTGGCCACCGTCCTCTCTGCCCCCGCCAAAATCACCAACCACCT\n",
      "GGTGGCGATGATTGAAAAAACCATTAGCGGCCAGGATGCTTTACCCAATATCAGCGATGCCGAACGTATT\n",
      "TTTGCCGAACTTTTGACGGGACTCGCCGCCGCCCAGCCGGGGTTCCCGCTGGCGCAATTGAAAACTTTCG\n",
      "TCGATCAGGAATTTGCCCAAATAAAACATGTCCTGCATGGCATTAGTTTGTTGGGGCAGTGCCCGGATAG\n",
      "CATCAACGCTGCGCTGATTTGCCGTGGCGAGAAAATGTCGATCGCCATTATGGCCGGCGTATTAGAAGCG\n",
      "CGCGGTCACAACGTTACTGTTATCGATCCGGTCGAAAAACTGCTGGCAGTGGGGCATTACCTCGAATCTA\n",
      "CCGTCGATATTGCTGAGTCCACCCGCCGTATTGCGGCAAGCCGCATTCCGGCTGATCACATGGTGCTGAT\n",
      "GGCAGGTTTCACCGCCGGTAATGAAAAAGGCGAACTGGTGGTGCTTGGACGCAACGGTTCCGACTACTCT\n",
      "GCTGCGGTGCTGGCTGCCTGTTTACGCGCCGATTGTTGCGAGATTTGGACGGACGTTGACGGGGTCTATA\n",
      "CCTGCGACCCGCGTCAGGTGCCCGATGCGAGGTTGTTGAAGTCGATGTCCTACCAGGAAGCGATGGAGCT\n",
      "TTCCTACTTCGGCGCTAAAGTTCTTCACCCCCGCACCATTACCCCCATCGCCCAGTTCCAGATCCCTTGC\n",
      "CTGATTAAAAATACCGGAAATCCTCAAGCACCA\n",
      "...\n"
     ]
    }
   ],
   "source": [
    "# Loop over every row of the table\n",
    "\n",
    "out_str = ''\n",
    "for ind, entry in df.iterrows():\n",
    "    s = entry['Start']\n",
    "    e = entry['Stop']\n",
    "    strand = Seq(ecoli_genome[s-1:e], generic_dna)\n",
    "    out_str += '>' + entry['Replicon Accession'] + '|' + entry['Locus'] + '|' + entry['Locus tag'] + '\\n'\n",
    "    if entry['Strand'] == ('+'):\n",
    "        out_str += textwrap.fill(str(strand), 70)\n",
    "    else:\n",
    "        out_str += textwrap.fill(str(strand.reverse_complement()), 70)\n",
    "            \n",
    "    out_str += '\\n'\n",
    "    \n",
    "print(out_str[0:1000])\n",
    "print('...')\n",
    "with open('OutFile.faa', 'w') as f:\n",
    "    f.write(out_str)"
   ]
  },
  {
   "cell_type": "markdown",
   "metadata": {},
   "source": [
    "## Thursday, April 13\n",
    "\n",
    "Implement the Codon-Usage-Index \n",
    "\n",
    "### Part 1: Modify the old FASTA file to make the sequence one line per gene"
   ]
  },
  {
   "cell_type": "code",
   "execution_count": 10,
   "metadata": {
    "collapsed": false
   },
   "outputs": [
    {
     "name": "stdout",
     "output_type": "stream",
     "text": [
      "b0001\tATGAAACGCATTAGCACCACCATTACCACCACCATCACCATTACCACAGGTAACGGTGCGGGCTGA\n",
      "b0002\tATGCGAGTGTTGAAGTTCGGCGGTACATCAGTGGCAAATGCAGAACGTTTTCTGCGTGTTGCCGATATTCTGGAAAGCAATGCCAGGCAGGGGCAGGTGGCCACCGTCCTCTCTGCCCCCGCCAAAATCACCAACCACCTGGTGGCGATGATTGAAAAAACCATTAGCGGCCAGGATGCTTTACCCAATATCAGCGATGCCGAACGTATTTTTGCCGAACTTTTGACGGGACTCGCCGCCGCCCAGCCGGGGTTCCCGCTGGCGCAATTGAAAACTTTCGTCGATCAGGAATTTGCCCAAATAAAACATGTCCTGCATGGCATTAGTTTGTTGGGGCAGTGCCCGGATAGCATCAACGCTGCGCTGATTTGCCGTGGCGAGAAAATGTCGATCGCCATTATGGCCGGCGTATTAGAAGCGCGCGGTCACAACGTTACTGTTATCGATCCGGTCGAAAAACTGCTGGCAGTGGGGCATTACCTCGAATCTACCGTCGATATTGCTGAGTCCACCCGCCGTATTGCGGCAAGCCGCATTCCGGCTGATCACATGGTGCTGATGGCAGGTTTCACCGCCGGTAATGAAAAAGGCGAACTGGTGGTGCTTGGACGCAACGGTTCCGACTACTCTGCTGCGGTGCTGGCTGCCTGTTTACGCGCCGATTGTTGCGAGATTTGGACGGACGTTGACGGGGTCTATACCTGCGACCCGCGTCAGGTGCCCGATGCGAGGTTGTTGAAGTCGATGTCCTACCAGGAAGCGATGGAGCTTTCCTACTTCGGCGCTAAAGTTCTTCACCCCCGCACCATTACCCCCATCGCCCAGTTCCAGATCCCTTGCCTGATTAAAAATACCGGAAATCCTCAAGCACCAGGTACGCTCATTGGTGCCAGCCGTGATGAAGACGAATTACCGGTCAAG\n"
     ]
    }
   ],
   "source": [
    "# Read in the E. Coli genome\n",
    "import textwrap\n",
    "from Bio.Seq import Seq\n",
    "from Bio.Alphabet import generic_dna\n",
    "\n",
    "with open('EColi.fna') as f:\n",
    "    # Open the genome\n",
    "    ecoli = f.read()\n",
    "    \n",
    "# Make it one string\n",
    "ecoli_genome = ''.join(ecoli.splitlines()[1:])\n",
    "\n",
    "# Loop over every row of the table\n",
    "out_str = ''\n",
    "for ind, entry in df.iterrows():\n",
    "    s = entry['Start']\n",
    "    e = entry['Stop']\n",
    "    strand = Seq(ecoli_genome[s-1:e], generic_dna)\n",
    "    out_str += entry['Locus tag']\n",
    "    out_str += '\\t'\n",
    "    if entry['Strand'] == ('+'):\n",
    "        out_str += str(strand)\n",
    "    else:\n",
    "        out_str += str(strand.reverse_complement())\n",
    "            \n",
    "    out_str += '\\n'\n",
    "    \n",
    "# Print just the beginning\n",
    "print(out_str[0:1000])\n",
    "\n",
    "# Write to file\n",
    "with open('OutFile_SingleLine.faa', 'w') as f:\n",
    "    f.write(out_str)"
   ]
  },
  {
   "cell_type": "markdown",
   "metadata": {},
   "source": [
    "### Part 2: Create a function to calculate normalized codon frequencies\n",
    "We use the following equations to model codon usage\n",
    "![title](relative_freq.png)"
   ]
  },
  {
   "cell_type": "code",
   "execution_count": 11,
   "metadata": {
    "collapsed": false
   },
   "outputs": [],
   "source": [
    "import matplotlib.pyplot as plt\n",
    "%matplotlib inline\n",
    "gene_table = pd.read_table('OutFile_SingleLine.faa', names=['gene', 'seq'])"
   ]
  },
  {
   "cell_type": "code",
   "execution_count": 12,
   "metadata": {
    "collapsed": false
   },
   "outputs": [
    {
     "name": "stdout",
     "output_type": "stream",
     "text": [
      "Warning\n",
      "Gene: b2891\n"
     ]
    }
   ],
   "source": [
    "from collections import Counter\n",
    "\n",
    "codons = textwrap.fill(ecoli_genome.strip()[:10000], 3).splitlines()\n",
    "codons = set([codon for codon in codons if len(codon) == 3])\n",
    "base_dict = {codon :0 for codon in codons}\n",
    "for codon in codons:\n",
    "    gene_table[codon] = 0\n",
    "\n",
    "for ind, entry in gene_table.iterrows():\n",
    "    codons_here = textwrap.fill(entry['seq'],3).splitlines()\n",
    "    for codon, codon_count in zip(Counter(codons_here).keys(), Counter(codons_here).values()):\n",
    "        if codon in gene_table.columns:\n",
    "            gene_table.set_value(ind, codon, codon_count)\n",
    "        else:\n",
    "            print('Warning')\n",
    "            print('Gene: ' + entry['gene'])\n",
    "                \n"
   ]
  },
  {
   "cell_type": "code",
   "execution_count": 13,
   "metadata": {
    "collapsed": false
   },
   "outputs": [],
   "source": [
    "# Make a copy of the original table.\n",
    "# The new table will be used for calculating \n",
    "Counts_DF = gene_table.copy()\n",
    "del Counts_DF['seq']\n",
    "Counts_DF = Counts_DF.set_index('gene')"
   ]
  },
  {
   "cell_type": "markdown",
   "metadata": {},
   "source": [
    "Here we finalize the codon usage index values with the following equation\n",
    "![title](CUI.png) "
   ]
  },
  {
   "cell_type": "code",
   "execution_count": 14,
   "metadata": {
    "collapsed": false
   },
   "outputs": [],
   "source": [
    "# Create the Normalized Count Table\n",
    "totals = Counts_DF.sum()\n",
    "normalized_totals = totals / sum(totals)\n",
    "Norm_Counts = Counts_DF.div(Counts_DF.sum(axis=1), axis=0)\n",
    "\n",
    "# Populate table\n",
    "Norm_Counts['CUI'] = 0.0\n",
    "for ind, entry in Norm_Counts.iterrows():\n",
    "    val = (Norm_Counts.ix[ind] * normalized_totals).sum()\n",
    "    Norm_Counts.set_value(ind, 'CUI', val)"
   ]
  },
  {
   "cell_type": "code",
   "execution_count": 15,
   "metadata": {
    "collapsed": false
   },
   "outputs": [
    {
     "data": {
      "text/plain": [
       "<matplotlib.text.Text at 0x12666daf780>"
      ]
     },
     "execution_count": 15,
     "metadata": {},
     "output_type": "execute_result"
    },
    {
     "data": {
      "image/png": "[encoded data removed]",
      "text/plain": [
       "<matplotlib.figure.Figure at 0x12666d8d898>"
      ]
     },
     "metadata": {},
     "output_type": "display_data"
    }
   ],
   "source": [
    "# Plot the distribution of CUI values\n",
    "plt.hist(list(Norm_Counts['CUI']))\n",
    "plt.xlabel('CUI')\n",
    "plt.ylabel('Number of Occurences')\n",
    "plt.title('Distribution of CUI')"
   ]
  },
  {
   "cell_type": "markdown",
   "metadata": {},
   "source": [
    "### Below we will look for statistical differences between the ribosomal and non-ribosomal proteins.\n",
    "\n",
    "The ribosomal proteins have a mean CUI of 0.0232 while the non-ribosomal proteins have a CUI of 0.0224.\n",
    "\n",
    "We'll use a box-and-whisker plot to visualize the distributions side-by-side.\n"
   ]
  },
  {
   "cell_type": "code",
   "execution_count": 16,
   "metadata": {
    "collapsed": false
   },
   "outputs": [],
   "source": [
    "# Put the CUI values into the gene table and select a subset of this table\n",
    "gene_table['CUI'] = Norm_Counts['CUI']\n",
    "df2 = df.set_index('Locus tag').join(Norm_Counts[['CUI']])[['Locus', 'Protein name', 'CUI']]"
   ]
  },
  {
   "cell_type": "code",
   "execution_count": 17,
   "metadata": {
    "collapsed": false
   },
   "outputs": [
    {
     "data": {
      "text/plain": [
       "count    66.000000\n",
       "mean      0.023201\n",
       "std       0.001323\n",
       "min       0.018761\n",
       "25%       0.022569\n",
       "50%       0.023277\n",
       "75%       0.024085\n",
       "max       0.025576\n",
       "Name: CUI, dtype: float64"
      ]
     },
     "execution_count": 17,
     "metadata": {},
     "output_type": "execute_result"
    }
   ],
   "source": [
    "# Plot the statistics for the ribosomal proteins\n",
    "df2.loc[df2['Protein name'].str.contains('ribosomal')]['CUI'].describe()"
   ]
  },
  {
   "cell_type": "code",
   "execution_count": 18,
   "metadata": {
    "collapsed": false
   },
   "outputs": [
    {
     "data": {
      "text/plain": [
       "count    4074.000000\n",
       "mean        0.022396\n",
       "std         0.001727\n",
       "min         0.013575\n",
       "25%         0.021451\n",
       "50%         0.022586\n",
       "75%         0.023615\n",
       "max         0.028185\n",
       "Name: CUI, dtype: float64"
      ]
     },
     "execution_count": 18,
     "metadata": {},
     "output_type": "execute_result"
    }
   ],
   "source": [
    "# Plot the statistics for the non-ribosomal proteins\n",
    "df2.loc[~df2['Protein name'].str.contains('ribosomal')]['CUI'].describe()"
   ]
  },
  {
   "cell_type": "code",
   "execution_count": 19,
   "metadata": {
    "collapsed": false
   },
   "outputs": [
    {
     "data": {
      "image/png": "[encoded data removed]",
      "text/plain": [
       "<matplotlib.figure.Figure at 0x12667b41320>"
      ]
     },
     "metadata": {},
     "output_type": "display_data"
    }
   ],
   "source": [
    "# Create series from the two groups\n",
    "y = list(df2.loc[df2['Protein name'].str.contains('ribosomal')]['CUI'])\n",
    "x = list(df2.loc[~df2['Protein name'].str.contains('ribosomal')]['CUI'])\n",
    "\n",
    "# Plot the Box and Whisker Plot\n",
    "plt.boxplot([x, y], labels=['NonRibosomal', 'Ribosomal'])\n",
    "plt.ylabel('CUI')\n",
    "plt.title('Distribution of CUI')\n",
    "plt.show()"
   ]
  }
 ],
 "metadata": {
  "kernelspec": {
   "display_name": "Python 3",
   "language": "python",
   "name": "python3"
  },
  "language_info": {
   "codemirror_mode": {
    "name": "ipython",
    "version": 3
   },
   "file_extension": ".py",
   "mimetype": "text/x-python",
   "name": "python",
   "nbconvert_exporter": "python",
   "pygments_lexer": "ipython3",
   "version": "3.6.0"
  }
 },
 "nbformat": 4,
 "nbformat_minor": 2
}
