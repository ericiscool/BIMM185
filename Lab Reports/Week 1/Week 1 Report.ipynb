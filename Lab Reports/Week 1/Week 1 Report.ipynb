{
 "cells": [
  {
   "cell_type": "markdown",
   "metadata": {},
   "source": [
    "# Week 1 Lab Report BIMM 185\n",
    "\n",
    "*Eric Mauritzen* | *A11584256*"
   ]
  },
  {
   "cell_type": "markdown",
   "metadata": {},
   "source": [
    "## Content Overview\n",
    "\n",
    "During week 1 the basics of the unix terminal, regular expression, and python were covered\n",
    "\n",
    "### Tuesday\n",
    "\n",
    "#### Commands\n",
    " - `cd` changes directories\n",
    " - `ls` lists the directory contents\n",
    " - `wget` used to download files from the web\n",
    " - `grep` a searching utility\n",
    " - `cat` 'concatenate' can be used to print file contents or concatenate files\n",
    " - `cut` can be used to rearrange columns in a delimited file\n",
    "\n",
    "#### Other Concepts\n",
    " - Bash scripting and variables\n",
    " - Using python to modify a FASTA File\n",
    " - Regualar Expressions\n",
    "----\n",
    "### Thursday\n",
    "Began with a review of the prior class.  We covered the terminal commands in further detail, this time with a PowerPoint.\n",
    "\n",
    "###### Ended with coding challenge: \n",
    "Provided with a table with 4 fields [Protein A, Protein B, Interaction Type, Confidence]  determine the proteins with the most interactions total and identify the protein with which they have the strongest interaction.\n",
    "\n",
    "---\n",
    "### What I learned\n",
    "\n",
    "I had only minimal experience with grep, cut, and regular expressions.  The small examples and exercised during lab were helpful refreshers."
   ]
  },
  {
   "cell_type": "markdown",
   "metadata": {},
   "source": [
    "### Change Delemiter Excercise\n",
    "Change commas in a .csv to tabs"
   ]
  },
  {
   "cell_type": "code",
   "execution_count": null,
   "metadata": {
    "collapsed": true
   },
   "outputs": [],
   "source": [
    "# Replace Tabs\n",
    "with open('expression_data.txt') as f:\n",
    "    plain_str = f.read()\n",
    "    conv_str = plain_str.replace(',', '\\t')\n",
    "\n",
    "with open('new.txt', 'w') as f:\n",
    "    f.write(conv_str)"
   ]
  },
  {
   "cell_type": "markdown",
   "metadata": {},
   "source": [
    "## Regular Expression Exercise\n",
    "\n",
    "We were asked to reformat a FASTA File.  \n",
    "\n",
    "`>gnl|TC-DB|1001796365|4.F.1.1.5 CDP-alcohol phosphatidyltransferase [Marinobacter excellens]\n",
    "MDSIRPATFQIPAAVRELGWAALLLFFVLLSVHEWFSPPGWFGLLAILIFATQGALILTR\n",
    "WPARQNFGWANRTTLLRSILVVSLVAWAPFLPAADSSALWIYGVACLIALILDGVDGKVA\n",
    "RATNSNSEFGARFDMELDALFIFGLCVATMAIGKAGPWVLMLALMRYAFLAASHFLTWLN\n",
    "QPLPDSFRRKTVCVWQVVTLMIAILPPTPTGFAGTTLAMALALLGWSFALDVRWLYQRRH\n",
    "YHEN` \n",
    "\n",
    "should be formatted to\n",
    "\n",
    "`4.F.1.1.5 - 1001796365 MDSIRPATFQIPAAVRELGWAAL ...` with the entire peptide sequence listed after a tab\n",
    "\n",
    "I approached the problem from the perspective most natural to me: python string and list manipulation.  I had not been exposed to regular expressions in much detail before this.\n"
   ]
  },
  {
   "cell_type": "code",
   "execution_count": 10,
   "metadata": {
    "collapsed": false
   },
   "outputs": [
    {
     "name": "stdout",
     "output_type": "stream",
     "text": [
      "Read File\n",
      "132578\n",
      "\n",
      "\n",
      "4.F.1.1.5-1001796365\tMDSIRPATFQIPAAVRELGWAALLLFFVLLSVHEWFSPPGWFGLLAILIFATQGALILTRWPARQNFGWANRTTLLRSILVVSLVAWAPFLPAADSSALWIYGVACLIALILDGVDGKVARATNSNSEFGARFDMELDALFIFGLCVATMAIGKAGPWVLMLALMRYAFLAASHFLTWLNQPLPDSFRRKTVCVWQVVTLMIAILPPTPTGFAGTTLAMALALLGWSFALDVRWLYQRRHYHEN\n",
      "\n",
      "2.A.4.2.8-1002048002\tMSPSRTARLYFLLVLDLLFFVLEISIGYAVGSLALVADSFHMLNDVVSLIIALYAIKLAASSTPTTRYSYGWHRAEILAALVNGVFLLALCFTITLEALERFFSTPEISNPKLIVLVGSLGLMSNIVGLCLFHEHAHGHDHSHRSARSSKASSVQSVTLESVTPEASPVAIRQPRPPAHHAGSYTSLYGHPAATRASFVQTANNIARSSSPVSADRSHKSRTRHSLDLWSPESAILTGPPHEHGDQSRGAKQASAPHEQTSLLEHPPVSYHNSTTSTSRELSSPDPKRHDQLQGQSHGGSMNMKALLLHVLGDALGNVGVIATGLIIWLTSWSFKYYCDPVISLVITAIIFHSALPLVRSTSFILLQGVPPEVSLEDVRSDILAVEGVLSVHELHIWQLSETKIIASVHINASRDVEFMPIASDIRRILHRHGIHSSTIQPEYHPVRDTILEERSKDVNCLISCPPDSACCEVQACCPSYAGTPPEP\n",
      "\n",
      "2.A.4.5.2-1002048004\tMHFGLNDRPEQVASASHSIFSSDDNKLRLSASLPDTAVTDLRRLGRAADADAECPTSPRVTTYNDPYNIAHGLKTDAEIAELSSRKRGKRLANYHRKQNDLIAALLKPMEEHTEDAKNEEDLSRIPVKIAVHASLIANISLAVLQLYGSISSASLSLLATGIDSVFDVGSNVLLYYINRK"
     ]
    }
   ],
   "source": [
    "import sys\n",
    "\n",
    "with open('TCDB.faa') as f:\n",
    "    file_str = f.read().split('\\n')\n",
    "\n",
    "print('Read File')\n",
    "print(len(file_str))\n",
    "for line in file_str[0:20]:\n",
    "    if line.startswith('>'):\n",
    "        print('\\n')\n",
    "        parts = line.split('|')\n",
    "        sys.stdout.write(str(parts[-1].split(' ')[0]))\n",
    "        sys.stdout.write('-')\n",
    "        sys.stdout.write(parts[2])\n",
    "        sys.stdout.write('\\t')\n",
    "    else:\n",
    "        sys.stdout.write(line.strip())\n",
    "\n",
    "\n"
   ]
  },
  {
   "cell_type": "markdown",
   "metadata": {},
   "source": [
    "## Protein Association Exercise\n",
    "Provided with a table with 4 fields [Protein A, Protein B, Interaction Type, Confidence]  determine the proteins with the most interactions total and identify the protein with which they have the strongest interaction."
   ]
  },
  {
   "cell_type": "code",
   "execution_count": 3,
   "metadata": {
    "collapsed": false
   },
   "outputs": [
    {
     "name": "stdout",
     "output_type": "stream",
     "text": [
      "Protein: YP_003982012 has 138 matches and is a best fit to YP_003982011 with probability 0.9947\n"
     ]
    }
   ],
   "source": [
    "with open('RS.txt') as f:\n",
    "    file_read = f.read().splitlines()\n",
    "\n",
    "num_matches = dict()\n",
    "max_match = dict()\n",
    "names = set()\n",
    "MAX_PROT = 2000\n",
    "\n",
    "for ind,line in enumerate(file_read):\n",
    "    if len(names) == MAX_PROT:\n",
    "        break\n",
    "    parts = line.split()\n",
    "    num_matches[parts[0]] = 0\n",
    "    max_match[parts[0]] = (float(parts[-1]), parts[1])\n",
    "    names.add(parts[0])\n",
    "\n",
    "names = set()\n",
    "for ind,line in enumerate(file_read):\n",
    "    if len(names) == MAX_PROT:\n",
    "        break\n",
    "    parts = line.split()\n",
    "    num_matches[parts[0]] += 1\n",
    "    max_match[parts[0]] = max(max_match[parts[0]], (float(parts[-1]), parts[1]))\n",
    "    names.add(parts[0])\n",
    "\n",
    "max_interactions = (-1,-1, -1, -1)\n",
    "for key, val in num_matches.items():\n",
    "    max_interactions = max(max_interactions, (val,key, max_match[key][1], max_match[key][0]) )\n",
    "\n",
    "    #print key, '\\t', max_match[key][1], '\\t', val, '\\t', max_match[key][0]\n",
    "\n",
    "print(\"Protein: %s has %d matches and is a best fit to %s with probability %.4f\" % (max_interactions[1], max_interactions[0], max_interactions[2], max_interactions[3]))"
   ]
  },
  {
   "cell_type": "code",
   "execution_count": 6,
   "metadata": {
    "collapsed": false,
    "scrolled": false
   },
   "outputs": [
    {
     "name": "stdout",
     "output_type": "stream",
     "text": [
      "Variable           Type             Data/Info\n",
      "---------------------------------------------\n",
      "MAX_PROT           int              2000\n",
      "f                  TextIOWrapper    <_io.TextIOWrapper name='<...>de='r' encoding='cp1252'>\n",
      "file_read          list             n=2209622\n",
      "file_str           list             n=132578\n",
      "ind                int              16378\n",
      "key                str              YP_005625498\n",
      "line               str              YP_005625512\tYP_005622456\tRS\t0.777931194737269\n",
      "max_interactions   tuple            n=4\n",
      "max_match          dict             n=2000\n",
      "names              set              {'YP_004954497', 'YP_0056<...>3980582', 'YP_006800895'}\n",
      "num_matches        dict             n=2000\n",
      "parts              list             n=4\n",
      "sys                module           <module 'sys' (built-in)>\n",
      "val                int              1\n"
     ]
    }
   ],
   "source": [
    "%whos"
   ]
  },
  {
   "cell_type": "code",
   "execution_count": null,
   "metadata": {
    "collapsed": true
   },
   "outputs": [],
   "source": []
  }
 ],
 "metadata": {
  "kernelspec": {
   "display_name": "Python 3",
   "language": "python",
   "name": "python3"
  },
  "language_info": {
   "codemirror_mode": {
    "name": "ipython",
    "version": 3
   },
   "file_extension": ".py",
   "mimetype": "text/x-python",
   "name": "python",
   "nbconvert_exporter": "python",
   "pygments_lexer": "ipython3",
   "version": "3.6.0"
  }
 },
 "nbformat": 4,
 "nbformat_minor": 2
}
