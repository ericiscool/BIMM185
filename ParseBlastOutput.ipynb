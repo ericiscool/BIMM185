{
 "cells": [
  {
   "cell_type": "code",
   "execution_count": 22,
   "metadata": {
    "collapsed": true
   },
   "outputs": [],
   "source": [
    "import pandas as pd"
   ]
  },
  {
   "cell_type": "code",
   "execution_count": 23,
   "metadata": {
    "collapsed": false
   },
   "outputs": [],
   "source": [
    "df_AE = pd.read_table('OutputFiles/SQL/AvE.out', names=['qseqid', 'sseqid', 'qlen', 'slen', 'bitscore', 'evalue', 'pident', 'nident', 'length', 'qcovs', 'qstat', 'qend', 'sstart', 'send'])\n",
    "df_EA = pd.read_table('OutputFiles/SQL/EvA.out', names=['qseqid', 'sseqid', 'qlen', 'slen', 'bitscore', 'evalue', 'pident', 'nident', 'length', 'qcovs', 'qstat', 'qend', 'sstart', 'send'])"
   ]
  },
  {
   "cell_type": "code",
   "execution_count": 24,
   "metadata": {
    "collapsed": false
   },
   "outputs": [],
   "source": [
    "for i, row in df_AE.iterrows():\n",
    "    protA = row['qseqid']\n",
    "    protB = row['sseqid']\n",
    "    protA_id = protA.split('.')[0]\n",
    "    protB_id = protB.split('.')[0]\n",
    "#    protA_id = df_genes['gene_id'].loc[df_genes['protein_id'] == protA].values[0]\n",
    "#    protB_id = df_genes['gene_id'].loc[df_genes['protein_id'] == protB].values[0]\n",
    "\n",
    "    df_AE.set_value(i,'qseqid',protA_id)\n",
    "    df_AE.set_value(i,'sseqid',protB_id)\n",
    "\n",
    "df_AE['send'] = df_AE['sstart'] + df_AE['slen']\n",
    "df_AE['scov'] = df_AE['length']/df_AE['slen']"
   ]
  },
  {
   "cell_type": "code",
   "execution_count": 25,
   "metadata": {
    "collapsed": true
   },
   "outputs": [],
   "source": [
    "for i, row in df_EA.iterrows():\n",
    "    protA = row['qseqid']\n",
    "    protB = row['sseqid']\n",
    "    protA_id = protA.split('.')[0]\n",
    "    protB_id = protB.split('.')[0]\n",
    "#    protA_id = df_genes['gene_id'].loc[df_genes['protein_id'] == protA].values[0]\n",
    "#    protB_id = df_genes['gene_id'].loc[df_genes['protein_id'] == protB].values[0]\n",
    "\n",
    "    df_EA.set_value(i,'qseqid',protA_id)\n",
    "    df_EA.set_value(i,'sseqid',protB_id)\n",
    "    \n",
    "df_EA['send'] = df_EA['sstart'] + df_EA['slen']\n",
    "df_EA['scov'] = df_EA['length']/df_EA['slen']"
   ]
  },
  {
   "cell_type": "code",
   "execution_count": 26,
   "metadata": {
    "collapsed": true
   },
   "outputs": [],
   "source": [
    "df_AE.to_csv('OutputFiles/SQL/AvE_trans.out',  sep='\\t', header=False, index=False)\n",
    "df_EA.to_csv('OutputFiles/SQL/EvA_trans.out',  sep='\\t', header=False, index=False)\n"
   ]
  },
  {
   "cell_type": "code",
   "execution_count": null,
   "metadata": {
    "collapsed": false
   },
   "outputs": [],
   "source": []
  },
  {
   "cell_type": "code",
   "execution_count": null,
   "metadata": {
    "collapsed": true
   },
   "outputs": [],
   "source": []
  }
 ],
 "metadata": {
  "kernelspec": {
   "display_name": "Python 3",
   "language": "python",
   "name": "python3"
  },
  "language_info": {
   "codemirror_mode": {
    "name": "ipython",
    "version": 3
   },
   "file_extension": ".py",
   "mimetype": "text/x-python",
   "name": "python",
   "nbconvert_exporter": "python",
   "pygments_lexer": "ipython3",
   "version": "3.6.0"
  }
 },
 "nbformat": 4,
 "nbformat_minor": 2
}
