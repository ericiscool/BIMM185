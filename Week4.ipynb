{
 "cells": [
  {
   "cell_type": "markdown",
   "metadata": {
    "collapsed": false
   },
   "source": [
    "# BIMM 185 Lab Report 4\n",
    "*Eric Mauritzen*\n",
    "\n"
   ]
  },
  {
   "cell_type": "markdown",
   "metadata": {},
   "source": [
    "## Exercise 3"
   ]
  },
  {
   "cell_type": "code",
   "execution_count": 55,
   "metadata": {
    "collapsed": false
   },
   "outputs": [],
   "source": [
    "# Download README\n",
    "import os \n",
    "if not platform.system() == 'Windows':\n",
    "    os.system('wget -O data/ProteinReadme.txt ftp://ftp.uniprot.org/pub/databases/uniprot/current_release/knowledgebase/reference_proteomes/README')\n"
   ]
  },
  {
   "cell_type": "code",
   "execution_count": 53,
   "metadata": {
    "collapsed": false
   },
   "outputs": [],
   "source": [
    "# Select protein IDs\n",
    "import re\n",
    "with open('data/ProteinReadme.txt') as f:\n",
    "    ProteinTxt = f.read()\n",
    "ALLIDS = re.findall('(UP\\d+)', ProteinTxt)\n",
    "ProteomeIDs = ALLIDS[:5]"
   ]
  },
  {
   "cell_type": "code",
   "execution_count": 54,
   "metadata": {
    "collapsed": false
   },
   "outputs": [],
   "source": [
    "# download genomic files\n",
    "for ID in ProteomeIDs:\n",
    "    if not platform.system() == 'Windows':\n",
    "        os.system('wget -nc -P data/%s ftp://ftp.uniprot.org/pub/databases/uniprot/current_release/knowledgebase/reference_proteomes/Bacteria/%s_*' % (ID, ID))"
   ]
  },
  {
   "cell_type": "markdown",
   "metadata": {},
   "source": [
    "## Exercise 4"
   ]
  },
  {
   "cell_type": "code",
   "execution_count": 4,
   "metadata": {
    "collapsed": false
   },
   "outputs": [],
   "source": [
    "from Bio.SeqIO.UniprotIO import Parser\n",
    "import Bio.SeqIO\n",
    "from Bio import SeqIO\n",
    "from Bio import SwissProt\n",
    "import pandas as pd"
   ]
  },
  {
   "cell_type": "code",
   "execution_count": 5,
   "metadata": {
    "collapsed": false
   },
   "outputs": [],
   "source": [
    "d = SeqIO.parse('data/uniprot_sprot_archaea.dat', 'swiss')\n",
    "df = pd.DataFrame(columns=['tax_id','organism','taxonomy'])\n",
    "for i, feature in enumerate(d):\n",
    "    \n",
    "    taxid = feature.annotations['ncbi_taxid'][0]\n",
    "    og = feature.annotations['organism']\n",
    "    tax = str(feature.annotations['taxonomy'])\n",
    "    tax = tax.replace('[', '').replace(']', '').replace(\"'\", '')\n",
    "    \n",
    "    df.loc[i] = [taxid, og, tax]\n",
    "    \n"
   ]
  },
  {
   "cell_type": "code",
   "execution_count": 6,
   "metadata": {
    "collapsed": false
   },
   "outputs": [],
   "source": [
    "df = df.drop_duplicates('tax_id')\n",
    "df.to_csv('OutputFiles/Ex4.tsv', sep='\\t', index=False)"
   ]
  },
  {
   "cell_type": "code",
   "execution_count": null,
   "metadata": {
    "collapsed": true
   },
   "outputs": [],
   "source": []
  }
 ],
 "metadata": {
  "anaconda-cloud": {},
  "kernelspec": {
   "display_name": "Python 3",
   "language": "python",
   "name": "python3"
  },
  "language_info": {
   "codemirror_mode": {
    "name": "ipython",
    "version": 3
   },
   "file_extension": ".py",
   "mimetype": "text/x-python",
   "name": "python",
   "nbconvert_exporter": "python",
   "pygments_lexer": "ipython3",
   "version": "3.6.0"
  }
 },
 "nbformat": 4,
 "nbformat_minor": 2
}
